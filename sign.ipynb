{
 "cells": [
  {
   "cell_type": "code",
   "execution_count": 1,
   "metadata": {},
   "outputs": [],
   "source": [
    "import cv2 as cv\n",
    "import numpy as np\n",
    "from skimage import measure, morphology\n",
    "from skimage.color import label2rgb\n",
    "from skimage.measure import regionprops\n",
    "from skimage.transform import resize\n",
    "from skimage.feature import hog\n",
    "from skimage import exposure\n",
    "import matplotlib.pyplot as plt\n",
    "import glob\n",
    "import matplotlib.pyplot  as plt\n",
    "import os\n",
    "import json\n",
    "from typing import List, Dict\n"
   ]
  },
  {
   "cell_type": "code",
   "execution_count": 2,
   "metadata": {},
   "outputs": [],
   "source": [
    "minLineLength = 2\n",
    "maxLineGap = 4\n",
    "def lines_extraction(gray: List[int]) -> List[int]:\n",
    "    \"\"\"\n",
    "    this function extracts the lines from the binary image. Cleaning process.\n",
    "    \"\"\"\n",
    "    edges = cv.Canny(gray, 100, 150)\n",
    "    lines = cv.HoughLinesP(edges, 1, np.pi/180, 100, minLineLength, maxLineGap)\n",
    "    return lines"
   ]
  },
  {
   "cell_type": "code",
   "execution_count": 3,
   "metadata": {},
   "outputs": [],
   "source": [
    "def get_file_name(file):\n",
    "    base=os.path.basename(file)\n",
    "    fn=os.path.splitext(base)[0]\n",
    "    abs_path=os.path.abspath(file)\n",
    "    return fn,abs_path"
   ]
  },
  {
   "cell_type": "code",
   "execution_count": 4,
   "metadata": {},
   "outputs": [],
   "source": [
    "def pre_process(Orig_path):\n",
    "    for file in glob.glob(Orig_path):\n",
    "        fn,_=get_file_name(file)\n",
    "        image=cv.imread(file)\n",
    "        image=cv.resize(image,(1280,1280))\n",
    "        originalGray = cv.cvtColor(image, cv.COLOR_BGR2GRAY)\n",
    "        img = cv.threshold(originalGray, 0, 255, cv.THRESH_BINARY + cv.THRESH_OTSU)[1]\n",
    "        #kernel=np.zeros((3,3),np.uint8)\n",
    "        #dilate=cv.dilate(img,kernel,iterations=2)\n",
    "        cv.imwrite(\"/home/vijaysn/Documents/connected_compnent/single_signatures/preprocess/\"+fn+\".png\",img)\n",
    "\n"
   ]
  },
  {
   "cell_type": "code",
   "execution_count": 5,
   "metadata": {},
   "outputs": [],
   "source": [
    "Orig_path=\"/home/vijaysn/Documents/connected_compnent/single_signatures/ip/*.*\"\n",
    "pre_process(Orig_path)"
   ]
  },
  {
   "cell_type": "code",
   "execution_count": 4,
   "metadata": {},
   "outputs": [],
   "source": [
    "def contours(path):\n",
    "    for file in glob.glob(path):\n",
    "        fn,_=get_file_name(file)\n",
    "        _,base=get_file_name(file)\n",
    "        img1=cv.imread(file,0)                  \n",
    "        blur = cv.GaussianBlur(img1, (3,3), 0,0,cv.BORDER_DEFAULT)\n",
    "        retval, thresh_gray = cv.threshold(img1, thresh=100, maxval=255, type=cv.THRESH_BINARY_INV)\n",
    "        canny = cv.Canny(thresh_gray, 150, 120)\n",
    "        kernel = np.ones((55, 55), np.uint8)\n",
    "        closing = cv.morphologyEx(canny, cv.MORPH_CLOSE, kernel)\n",
    "        contours, hierarchy = cv.findContours(closing, cv.RETR_LIST, cv.CHAIN_APPROX_SIMPLE)\n",
    "        total_contours=len(contours)\n",
    "        return total_contours\n",
    "            \n",
    "            \n",
    "        \n",
    "            \n",
    "\n"
   ]
  },
  {
   "cell_type": "code",
   "execution_count": null,
   "metadata": {},
   "outputs": [],
   "source": [
    "def remove_lines(preoutput_path):\n",
    "      for file in glob.glob(preoutput_path):\n",
    "        fn,_=get_file_name(file)\n",
    "        image=cv.imread(file,0)\n",
    "        lines=lines_extraction(image)\n",
    "        try:\n",
    "            if(lines.any()>0):\n",
    "                  thresh = cv.threshold(image, 0, 255, cv.THRESH_BINARY_INV + cv.THRESH_OTSU)[1]\n",
    "                  # Detect horizontal lines\n",
    "                  horizontal_kernel = cv.getStructuringElement(cv.MORPH_RECT, (30,1))\n",
    "                  detected_lines = cv.morphologyEx(thresh, cv.MORPH_OPEN, horizontal_kernel, iterations=2)\n",
    "                  cnts = cv.findContours(detected_lines, cv.RETR_EXTERNAL, cv.CHAIN_APPROX_SIMPLE)\n",
    "                  cnts = cnts[0] if len(cnts) == 2 else cnts[1]\n",
    "                  for c in cnts:\n",
    "                        cv.drawContours(image, [c], -1, (255,255,255), 2)\n",
    "                  vertical_kernel = cv.getStructuringElement(cv.MORPH_RECT, (1,30))\n",
    "                  detected_lines = cv.morphologyEx(thresh, cv.MORPH_OPEN, vertical_kernel, iterations=2)\n",
    "                  cnts = cv.findContours(detected_lines, cv.RETR_EXTERNAL, cv.CHAIN_APPROX_SIMPLE)\n",
    "                  cnts = cnts[0] if len(cnts) == 2 else cnts[1]\n",
    "                  for c in cnts:\n",
    "                   cv.drawContours(image, [c], -1, (255,255,255), 2)\n",
    "                  cv.imwrite(\"/home/vijaysn/Documents/connected_compnent/single_signatures/pre1/\"+fn+'.png',image)\n",
    "        except:\n",
    "            pass"
   ]
  },
  {
   "cell_type": "code",
   "execution_count": null,
   "metadata": {},
   "outputs": [],
   "source": [
    "preoutput_path=\"/home/vijaysn/Documents/connected_compnent/single_signatures/preprocess/*.*\"\n",
    "remove_lines(preoutput_path)"
   ]
  },
  {
   "cell_type": "code",
   "execution_count": 11,
   "metadata": {},
   "outputs": [],
   "source": [
    "def remove_blobs(pre_path):\n",
    "    for file in glob.glob(pre_path):\n",
    "        fn,_=get_file_name(file)\n",
    "        img=cv.imread(file,0)\n",
    "        blobs = img > img.mean()\n",
    "        blobs_labels = measure.label(blobs, background=1)\n",
    "        image_label_overlay = label2rgb(blobs_labels, image=img)\n",
    "        regions = regionprops(blobs_labels)\n",
    "        totalArea = 0\n",
    "        count = 0\n",
    "        for region in regions:\n",
    "            if (region.area >10):\n",
    "                totalArea += region.area\n",
    "                count += 1\n",
    "        minSize = (((totalArea/count)/60) *100) +80\n",
    "        smallObjectsRemoved = morphology.remove_small_objects(blobs_labels, min_size=minSize, connectivity=1)\n",
    "        plt.imsave(\"/home/vijaysn/Documents/connected_compnent/single_signatures/preversion/\"+fn+\".png\", smallObjectsRemoved)\n",
    "        preversion_path=\"/home/vijaysn/Documents/connected_compnent/single_signatures/preversion/\"+fn+\".png\"\n",
    "        preoutput_path=\"/home/vijaysn/Documents/connected_compnent/single_signatures/preoutput/\"+fn+\".png\"\n",
    "        img=cv.imread(preversion_path,0)\n",
    "        img = cv.threshold(img,127,255,cv.THRESH_BINARY_INV | cv.THRESH_OTSU)[1]\n",
    "        cv.imwrite(preoutput_path, img)\n",
    "        noise=contours(preoutput_path)\n",
    "        while True:\n",
    "            if noise >4:\n",
    "                minSize=minSize+50\n",
    "                smallObjectsRemoved = morphology.remove_small_objects(blobs_labels, min_size=minSize, connectivity=1)\n",
    "                plt.imsave(\"/home/vijaysn/Documents/connected_compnent/single_signatures/preversion/\"+fn+\".png\", smallObjectsRemoved)\n",
    "                preversion_path=\"/home/vijaysn/Documents/connected_compnent/single_signatures/preversion/\"+fn+\".png\"\n",
    "                preoutput_path=\"/home/vijaysn/Documents/connected_compnent/single_signatures/preoutput/\"+fn+\".png\"\n",
    "                img=cv.imread(preversion_path,0)\n",
    "                img = cv.threshold(img,127,255,cv.THRESH_BINARY_INV | cv.THRESH_OTSU)[1]\n",
    "                cv.imwrite(preoutput_path, img)\n",
    "                noise=contours(preoutput_path)\n",
    "             \n",
    "            else:\n",
    "                break\n",
    "                \n",
    "\n",
    "\n",
    "\n"
   ]
  },
  {
   "cell_type": "code",
   "execution_count": 12,
   "metadata": {},
   "outputs": [],
   "source": [
    "pre_path=\"/home/vijaysn/Documents/connected_compnent/single_signatures/pre1/*.*\"\n",
    "remove_blobs(pre_path)"
   ]
  },
  {
   "cell_type": "code",
   "execution_count": 9,
   "metadata": {},
   "outputs": [],
   "source": [
    "\n",
    "\n",
    "\n",
    "def bounded_box():\n",
    "    pre2_path=\"/home/vijaysn/Documents/connected_compnent/single_signatures/preoutput/*.*\"\n",
    "    Orig_path=\"/home/vijaysn/Documents/connected_compnent/single_signatures/ip/*.*\"\n",
    "    f=open('/home/vijaysn/Documents/modified/size.txt','a')\n",
    "\n",
    "    for file in glob.glob(pre2_path):\n",
    "        fn,_=get_file_name(file)\n",
    "        for file1 in  glob.glob(Orig_path):\n",
    "            fn1,_=get_file_name(file1)\n",
    "            if(fn==fn1):\n",
    "                img = cv.imread(file,0)\n",
    "                orig_image=cv.imread(file1,cv.COLOR_BGR2RGB)\n",
    "                orig_image=cv.resize(orig_image,(1280,1280))\n",
    "                mask = np.ones(orig_image.shape[:2], dtype=\"uint8\") * 255\n",
    "                retval, thresh_gray = cv.threshold(img, thresh=100, maxval=255, type=cv.THRESH_BINARY_INV)\n",
    "                canny = cv.Canny(thresh_gray, 150, 120)\n",
    "                kernel = np.ones((55, 55), np.uint8)\n",
    "                closing = cv.morphologyEx(canny, cv.MORPH_CLOSE, kernel)\n",
    "                contours, hierarchy = cv.findContours(closing, cv.RETR_LIST, cv.CHAIN_APPROX_SIMPLE)\n",
    "                total_contours=len(contours)\n",
    "                mx = (0,0,0,0)\n",
    "                min_area=0\n",
    "                mx_area=150000\n",
    "                for cont in contours:\n",
    "                    x,y,w,h = cv.boundingRect(cont)\n",
    "                    area = w*h\n",
    "                    if area > min_area and area < mx_area:\n",
    "                        mx = x,y,w,h\n",
    "                        min_area = area\n",
    "                    x,y,w,h = mx\n",
    "\n",
    "                boxed =  cv.rectangle(orig_image,(x,y),(x+w,y+h),(200,0,0), 2)\n",
    "                signature = img[y: y+h, x: x+w] \n",
    "                mask[y: y+h, x: x+w] = signature # copied title contour onto the blank image\n",
    "                img[y: y+h, x: x+w] = 255\n",
    "                roi=mask[y:y+h, x:x+w]\n",
    "                cv.imwrite(\"/home/vijaysn/Documents/connected_compnent/single_signatures/cropped/\"+fn+'.png',roi)\n",
    "\n",
    "                    #cv.imwrite('/home/vijaysn/Documents/modified/cropped1/'+imageName,roi)\n",
    "                cv.imwrite(\"/home/vijaysn/Documents/connected_compnent/single_signatures/output/\"+fn+'.png',mask)\n",
    "                data={'File_name':fn+'.jpg','contours':len(contours),'X':x,'Y':y,'W':w,'H':h}\n",
    "                f.write(json.dumps(data)+'\\n')\n",
    "                plt.imsave(\"/home/vijaysn/Documents/connected_compnent/single_signatures/region/\"+fn+\".png\",boxed)\n",
    "    f.close()\n",
    "                        #boxed =  cv.rectangle(img_read,(x,y),(x+w,y+h),(200,0,0), 2)\n",
    "                        #plt.imsave(\"/home/vijaysn/Documents/success/region/\"+fn1+\".png\",boxed)\n",
    "\n"
   ]
  },
  {
   "cell_type": "code",
   "execution_count": 10,
   "metadata": {},
   "outputs": [],
   "source": [
    "bounded_box()"
   ]
  }
 ],
 "metadata": {
  "kernelspec": {
   "display_name": "Python 3.8.10 64-bit",
   "language": "python",
   "name": "python3"
  },
  "language_info": {
   "codemirror_mode": {
    "name": "ipython",
    "version": 3
   },
   "file_extension": ".py",
   "mimetype": "text/x-python",
   "name": "python",
   "nbconvert_exporter": "python",
   "pygments_lexer": "ipython3",
   "version": "3.8.10"
  },
  "orig_nbformat": 4,
  "vscode": {
   "interpreter": {
    "hash": "916dbcbb3f70747c44a77c7bcd40155683ae19c65e1c03b4aa3499c5328201f1"
   }
  }
 },
 "nbformat": 4,
 "nbformat_minor": 2
}
